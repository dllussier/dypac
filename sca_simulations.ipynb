{
 "cells": [
  {
   "cell_type": "code",
   "execution_count": 1,
   "metadata": {},
   "outputs": [],
   "source": [
    "import sca as sca\n",
    "import numpy as np\n",
    "import sklearn as sk\n",
    "import scipy as sp\n",
    "import matplotlib.pyplot as plt\n",
    "import time"
   ]
  },
  {
   "cell_type": "code",
   "execution_count": 2,
   "metadata": {},
   "outputs": [],
   "source": [
    "def simu_tseries(n_time,n_roi,n_clusters,alpha) :\n",
    "    y = np.random.normal(size=[n_roi , n_time])\n",
    "    gt = np.zeros(shape=[n_roi,n_clusters.size])\n",
    "    \n",
    "    for ss in range(0,n_clusters.size) :\n",
    "        ind = np.linspace(0,n_roi,n_clusters[ss]+1,dtype=\"int\")\n",
    "        for cc in range(0, n_clusters[ss]) :\n",
    "            cluster = range(ind[cc],ind[cc+1])\n",
    "            sig = np.random.normal(size=[1,n_time])\n",
    "            y[cluster,:] = y[cluster,:] + alpha * np.repeat(sig,ind[cc+1]-ind[cc],0)\n",
    "            gt[cluster,ss] = cc\n",
    "    return y , gt"
   ]
  },
  {
   "cell_type": "code",
   "execution_count": 3,
   "metadata": {},
   "outputs": [],
   "source": [
    "n_time = 500     # number of time samples\n",
    "n_roi = 5000      # number of regions\n",
    "n_clusters = np.array([5])   # number  of clusters \n",
    "alpha = 0.5   # this parameter controls the \"strength\" of the clustering.\n",
    "y , gt = simu_tseries(n_time , n_roi , n_clusters , alpha )"
   ]
  },
  {
   "cell_type": "code",
   "execution_count": 5,
   "metadata": {},
   "outputs": [
    {
     "name": "stdout",
     "output_type": "stream",
     "text": [
      "36.396514999999994 seconds process time\n"
     ]
    }
   ],
   "source": [
    "t0 = time.clock()\n",
    "stab_maps = sca.recursive_cluster(y, n_clusters=5, n_states=5, subsample_size=20, n_jobs=-1)\n",
    "print(time.clock()-t0, \"seconds process time\")"
   ]
  },
  {
   "cell_type": "code",
   "execution_count": null,
   "metadata": {},
   "outputs": [],
   "source": [
    "plt.plot(stab_maps)"
   ]
  }
 ],
 "metadata": {
  "kernelspec": {
   "display_name": "Python 3",
   "language": "python",
   "name": "python3"
  },
  "language_info": {
   "codemirror_mode": {
    "name": "ipython",
    "version": 3
   },
   "file_extension": ".py",
   "mimetype": "text/x-python",
   "name": "python",
   "nbconvert_exporter": "python",
   "pygments_lexer": "ipython3",
   "version": "3.6.7"
  }
 },
 "nbformat": 4,
 "nbformat_minor": 2
}
