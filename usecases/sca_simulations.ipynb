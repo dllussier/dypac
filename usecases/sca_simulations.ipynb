{
 "cells": [
  {
   "cell_type": "code",
   "execution_count": 1,
   "metadata": {},
   "outputs": [
    {
     "name": "stderr",
     "output_type": "stream",
     "text": [
      "/home/pbellec/env/nilearn/lib/python3.7/site-packages/sklearn/externals/joblib/__init__.py:15: DeprecationWarning: sklearn.externals.joblib is deprecated in 0.21 and will be removed in 0.23. Please import this functionality directly from joblib, which can be installed with: pip install joblib. If this warning is raised when loading pickled models, you may need to re-serialize those models with scikit-learn 0.21+.\n",
      "  warnings.warn(msg, category=DeprecationWarning)\n"
     ]
    }
   ],
   "source": [
    "import sdynca as sdynca\n",
    "import numpy as np\n",
    "import sklearn as sk\n",
    "import scipy as sp\n",
    "import matplotlib.pyplot as plt\n",
    "import time\n",
    "from scipy.cluster.hierarchy import dendrogram, linkage, fcluster"
   ]
  },
  {
   "cell_type": "code",
   "execution_count": 3,
   "metadata": {},
   "outputs": [],
   "source": [
    "model = sdynca.SDynCA(n_components=30)"
   ]
  },
  {
   "cell_type": "code",
   "execution_count": 4,
   "metadata": {},
   "outputs": [],
   "source": [
    "model.fit?"
   ]
  },
  {
   "cell_type": "code",
   "execution_count": null,
   "metadata": {},
   "outputs": [],
   "source": [
    "def simu_tseries(n_time,n_roi,n_clusters,alpha) :\n",
    "    y = np.random.normal(size=[n_roi , n_time])\n",
    "    gt = np.zeros(shape=[n_roi,n_clusters.size])\n",
    "    \n",
    "    for ss in range(0,n_clusters.size) :\n",
    "        ind = np.linspace(0,n_roi,n_clusters[ss]+1,dtype=\"int\")\n",
    "        for cc in range(0, n_clusters[ss]) :\n",
    "            cluster = range(ind[cc],ind[cc+1])\n",
    "            sig = np.random.normal(size=[1,n_time])\n",
    "            y[cluster,:] = y[cluster,:] + alpha * np.repeat(sig,ind[cc+1]-ind[cc],0)\n",
    "            gt[cluster,ss] = cc\n",
    "    return y , gt"
   ]
  },
  {
   "cell_type": "code",
   "execution_count": null,
   "metadata": {},
   "outputs": [],
   "source": [
    "n_time = 100     # number of time samples\n",
    "n_roi = 200      # number of regions\n",
    "n_clusters = np.array([5])   # number  of clusters \n",
    "alpha = 0.5   # this parameter controls the \"strength\" of the clustering.\n",
    "y , gt = simu_tseries(n_time , n_roi , n_clusters , alpha )"
   ]
  },
  {
   "cell_type": "code",
   "execution_count": null,
   "metadata": {},
   "outputs": [],
   "source": [
    "t0 = time.clock()\n",
    "stab_maps, dwell_time = sca.recursive_cluster(y, n_clusters=5, n_states=1, subsample_size=20, n_jobs=-1,\n",
    "                                              threshold_dice=0.5, threshold_stability=0.3, n_replications=100)\n",
    "print(time.clock()-t0, \"seconds process time\")"
   ]
  },
  {
   "cell_type": "code",
   "execution_count": null,
   "metadata": {},
   "outputs": [],
   "source": [
    "plt.plot(stab_maps)\n",
    "dwell_time"
   ]
  },
  {
   "cell_type": "code",
   "execution_count": null,
   "metadata": {},
   "outputs": [],
   "source": [
    "a.astype('float')[0]"
   ]
  }
 ],
 "metadata": {
  "kernelspec": {
   "display_name": "Python 3",
   "language": "python",
   "name": "python3"
  },
  "language_info": {
   "codemirror_mode": {
    "name": "ipython",
    "version": 3
   },
   "file_extension": ".py",
   "mimetype": "text/x-python",
   "name": "python",
   "nbconvert_exporter": "python",
   "pygments_lexer": "ipython3",
   "version": "3.7.3"
  }
 },
 "nbformat": 4,
 "nbformat_minor": 2
}
