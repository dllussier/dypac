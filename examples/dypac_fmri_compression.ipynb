{
 "cells": [
  {
   "cell_type": "code",
   "execution_count": 1,
   "metadata": {},
   "outputs": [],
   "source": [
    "from dypac import dypac\n",
    "import numpy as np\n",
    "import sklearn as sk\n",
    "import scipy as sp\n",
    "import matplotlib.pyplot as plt\n",
    "import time\n",
    "from nilearn import datasets\n",
    "from nilearn import image\n",
    "from nilearn.input_data import NiftiMasker\n",
    "from nilearn import plotting\n",
    "from nilearn.decomposition import DictLearning, CanICA\n",
    "from scipy.stats import pearsonr"
   ]
  },
  {
   "cell_type": "code",
   "execution_count": 2,
   "metadata": {},
   "outputs": [
    {
     "name": "stderr",
     "output_type": "stream",
     "text": [
      "/home/pbellec/git/nilearn/nilearn/datasets/func.py:509: VisibleDeprecationWarning: Reading unicode strings without specifying the encoding argument is deprecated. Set the encoding, use None for the system default.\n",
      "  dtype=None)\n"
     ]
    }
   ],
   "source": [
    "adhd_dataset = datasets.fetch_adhd(n_subjects=1)\n",
    "epi_filename = adhd_dataset.func[0]"
   ]
  },
  {
   "cell_type": "code",
   "execution_count": 3,
   "metadata": {},
   "outputs": [
    {
     "name": "stdout",
     "output_type": "stream",
     "text": [
      "[MultiNiftiMasker.fit] Loading data from [/home/pbellec/nilearn_data/adhd/data/0010042/0010042_rest_tshift_RPI_voreg_mni.nii.gz]\n",
      "[MultiNiftiMasker.fit] Computing mask\n",
      "[MultiNiftiMasker.transform] Resampling mask\n",
      "[dypac] Loading data\n",
      "[MultiNiftiMasker.transform_single_imgs] Loading data from Nifti1Image('/home/pbellec/nilearn_data/adhd/data/0010042/0010042_rest_tshift_RPI_voreg_mni.nii.gz')\n",
      "[MultiNiftiMasker.transform_single_imgs] Smoothing images\n",
      "[MultiNiftiMasker.transform_single_imgs] Extracting region signals\n",
      "[MultiNiftiMasker.transform_single_imgs] Cleaning extracted signals\n"
     ]
    },
    {
     "name": "stderr",
     "output_type": "stream",
     "text": [
      "Replicating clusters in data #0: 100%|██████████| 20/20 [00:04<00:00,  4.08it/s]\n"
     ]
    },
    {
     "name": "stdout",
     "output_type": "stream",
     "text": [
      "Consensus clustering.\n"
     ]
    },
    {
     "name": "stderr",
     "output_type": "stream",
     "text": [
      "Trimming states: 100%|██████████| 20/20 [00:00<00:00, 227.72it/s]\n"
     ]
    }
   ],
   "source": [
    "model = dypac(n_clusters=10, n_states=20, verbose=1, n_init=1, n_init_aggregation=1, n_replications=20, \n",
    "              detrend=True, smoothing_fwhm=5, standardize=True, n_batch=1, threshold_sim=0.2)\n",
    "stab_maps = model.fit(epi_filename)"
   ]
  },
  {
   "cell_type": "code",
   "execution_count": null,
   "metadata": {},
   "outputs": [],
   "source": [
    "num_comp = 4\n",
    "comp = model.masker_.inverse_transform(model.components_[num_comp,:].todense())\n",
    "plotting.view_img(comp, threshold=0.1, vmax=1, title=\"Dwell time: {dt}\".format(dt=model.dwell_time_[num_comp]))"
   ]
  },
  {
   "cell_type": "code",
   "execution_count": null,
   "metadata": {},
   "outputs": [],
   "source": [
    "tseries = model.masker_.transform(epi_filename)"
   ]
  },
  {
   "cell_type": "code",
   "execution_count": null,
   "metadata": {},
   "outputs": [],
   "source": [
    "weights = model.transform_sparse(epi_filename)"
   ]
  },
  {
   "cell_type": "code",
   "execution_count": null,
   "metadata": {},
   "outputs": [],
   "source": [
    "plt.plot(weights[:, num_comp])"
   ]
  },
  {
   "cell_type": "code",
   "execution_count": null,
   "metadata": {},
   "outputs": [],
   "source": [
    "num_t = 50\n",
    "img = model.masker_.inverse_transform(tseries[num_t,:])\n",
    "plotting.view_img(img, cut_coords=[2, -22, 10], vmax=4)"
   ]
  },
  {
   "cell_type": "code",
   "execution_count": null,
   "metadata": {},
   "outputs": [],
   "source": [
    "img_r = model.masker_.inverse_transform(weights[num_t,:] * model.components_)\n",
    "plotting.view_img(img_r, cut_coords=[2, -22, 10], vmax=4)"
   ]
  },
  {
   "cell_type": "code",
   "execution_count": null,
   "metadata": {},
   "outputs": [],
   "source": [
    "img_diff = image.new_img_like(img, img.get_fdata() - img_r.get_fdata())\n",
    "plotting.view_img(img_diff, cut_coords=[2, -22, 10], vmax=4)"
   ]
  },
  {
   "cell_type": "markdown",
   "metadata": {},
   "source": [
    "Let's calculate the original std of the data:"
   ]
  },
  {
   "cell_type": "code",
   "execution_count": null,
   "metadata": {},
   "outputs": [],
   "source": [
    "for tt in range(0,tseries.shape[0]):\n",
    "    img = model.masker_.inverse_transform(tseries[tt, :])\n",
    "    if (tt==0):\n",
    "        diff = np.square(img.get_fdata()) # The data is demeaned, so this is a square diff to the mean\n",
    "    else:\n",
    "        diff = diff + np.square(img.get_fdata())\n",
    "img_orig_std = image.new_img_like(img, diff / tseries.shape[0])\n",
    "plotting.view_img(img_orig_std, cut_coords=[2, -22, 10])"
   ]
  },
  {
   "cell_type": "markdown",
   "metadata": {},
   "source": [
    "Let's calculate a std image of the residuals:"
   ]
  },
  {
   "cell_type": "code",
   "execution_count": null,
   "metadata": {},
   "outputs": [],
   "source": [
    "for tt in range(0,tseries.shape[0]):\n",
    "    img = model.masker_.inverse_transform(tseries[tt, :])\n",
    "    img_r = model.masker_.inverse_transform(weights[tt,:] * model.components_)\n",
    "    if (tt==0):\n",
    "        diff = np.square(img.get_fdata() - img_r.get_fdata())\n",
    "    else:\n",
    "        diff = diff + np.square(img.get_fdata() - img_r.get_fdata())\n",
    "img_std = image.new_img_like(img, diff / tseries.shape[0])\n",
    "plotting.view_img(img_std, cut_coords=[2, -22, 10], vmax=1)"
   ]
  }
 ],
 "metadata": {
  "kernelspec": {
   "display_name": "Python 3",
   "language": "python",
   "name": "python3"
  },
  "language_info": {
   "codemirror_mode": {
    "name": "ipython",
    "version": 3
   },
   "file_extension": ".py",
   "mimetype": "text/x-python",
   "name": "python",
   "nbconvert_exporter": "python",
   "pygments_lexer": "ipython3",
   "version": "3.6.9"
  }
 },
 "nbformat": 4,
 "nbformat_minor": 4
}
